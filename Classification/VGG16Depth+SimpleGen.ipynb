{
 "cells": [
  {
   "cell_type": "code",
   "execution_count": 9,
   "metadata": {},
   "outputs": [],
   "source": [
    "# Loading packages\n",
    "\n",
    "# Path and file, data handling\n",
    "import os\n",
    "import h5py\n",
    "import numpy as np\n",
    "import pandas as pd\n",
    "from pathlib import Path\n",
    "\n",
    "# Image preprocessing\n",
    "from skimage.io import imread\n",
    "import cv2\n",
    "from PIL import Image\n",
    "\n",
    "# Visualization\n",
    "import seaborn as sns\n",
    "import matplotlib.pyplot as plt\n",
    "\n",
    "# Splitting dataset\n",
    "from sklearn.model_selection import train_test_split\n",
    "\n",
    "# Image Augmentation\n",
    "import imgaug as aug\n",
    "import imgaug.augmenters as iaa\n",
    "\n",
    "# pakcages for deep learnnig\n",
    "\n",
    "# from tensorflow.keras import backend as K\n",
    "# from tensorflow.keras.utils import to_categorical\n",
    "# from tensorflow.keras.models import Model, Sequential\n",
    "# from tensorflow.keras.optimizers import Adam, RMSprop, SGD\n",
    "# from tensorflow.keras.applications.vgg16 import VGG16, preprocess_input\n",
    "# # from tensorflow.keras.preprocessing import image_dataset_from_directory\n",
    "# from tensorflow.keras.preprocessing.image import ImageDataGenerator, load_img, img_to_array\n",
    "# from tensorflow.keras.callbacks import Callback, ModelCheckpoint, EarlyStopping, ReduceLROnPlateau\n",
    "# from tensorflow.keras.layers import Conv2D, MaxPooling2D, Dense, Dropout, Input, Flatten, SeparableConv2D, GlobalMaxPooling2D, BatchNormalization, Concatenate\n"
   ]
  },
  {
   "cell_type": "code",
   "execution_count": 10,
   "metadata": {},
   "outputs": [
    {
     "data": {
      "text/plain": [
       "WindowsPath('D:/Projects/Covid19/data/Original_cropped')"
      ]
     },
     "execution_count": 10,
     "metadata": {},
     "output_type": "execute_result"
    }
   ],
   "source": [
    "data_dir = Path('D:/Projects/Covid19/data/')\n",
    "\n",
    "train_dir = data_dir / 'Original_cropped'\n",
    "\n",
    "train_dir"
   ]
  },
  {
   "cell_type": "code",
   "execution_count": 3,
   "metadata": {},
   "outputs": [],
   "source": [
    "# Check images are 'RGB' or not\n",
    "\n",
    "# def is_grey_scale(img_path):\n",
    "# #     img = Image.open(img_path).convert('RGB')\n",
    "#     w,h = img.size\n",
    "#     for i in range(w):\n",
    "#         for j in range(h):\n",
    "#             r,g,b = img.getpixel((i,j))\n",
    "#             if r != g != b: return False\n",
    "#     return True"
   ]
  },
  {
   "cell_type": "code",
   "execution_count": 4,
   "metadata": {},
   "outputs": [],
   "source": [
    "# for image in train_dir.glob('OTHER/*'):\n",
    "#     object = is_grey_scale(image)\n",
    "#     print(object)"
   ]
  },
  {
   "cell_type": "code",
   "execution_count": 5,
   "metadata": {},
   "outputs": [
    {
     "name": "stdout",
     "output_type": "stream",
     "text": [
      "Found 1292 images belonging to 3 classes.\n",
      "Found 322 images belonging to 3 classes.\n"
     ]
    }
   ],
   "source": [
    "train_datagen = ImageDataGenerator(rescale=1./255,\n",
    "                                   validation_split=0.2) # set validation split\n",
    "    \n",
    "train_generator = train_datagen.flow_from_directory(\n",
    "    train_dir,\n",
    "    target_size=(224, 224),\n",
    "    batch_size=4,\n",
    "    color_mode=\"rgb\",\n",
    "    class_mode='categorical',\n",
    "    subset='training') # set as training data\n",
    "\n",
    "validation_generator = train_datagen.flow_from_directory(\n",
    "    train_dir, # same directory as training data\n",
    "    target_size=(224, 224),\n",
    "    batch_size=4,\n",
    "    color_mode=\"rgb\",\n",
    "    class_mode='categorical',\n",
    "    subset='validation') # set as validation data"
   ]
  },
  {
   "cell_type": "code",
   "execution_count": 6,
   "metadata": {},
   "outputs": [
    {
     "name": "stdout",
     "output_type": "stream",
     "text": [
      "Model: \"model\"\n",
      "_________________________________________________________________\n",
      "Layer (type)                 Output Shape              Param #   \n",
      "=================================================================\n",
      "ImageInput (InputLayer)      [(None, 224, 224, 3)]     0         \n",
      "_________________________________________________________________\n",
      "Conv1_1 (Conv2D)             (None, 224, 224, 64)      1792      \n",
      "_________________________________________________________________\n",
      "Conv1_2 (Conv2D)             (None, 224, 224, 64)      36928     \n",
      "_________________________________________________________________\n",
      "pool1 (MaxPooling2D)         (None, 112, 112, 64)      0         \n",
      "_________________________________________________________________\n",
      "Conv2_1 (SeparableConv2D)    (None, 112, 112, 128)     8896      \n",
      "_________________________________________________________________\n",
      "Conv2_2 (SeparableConv2D)    (None, 112, 112, 128)     17664     \n",
      "_________________________________________________________________\n",
      "pool2 (MaxPooling2D)         (None, 56, 56, 128)       0         \n",
      "_________________________________________________________________\n",
      "Conv3_1 (SeparableConv2D)    (None, 56, 56, 256)       34176     \n",
      "_________________________________________________________________\n",
      "bn1 (BatchNormalization)     (None, 56, 56, 256)       1024      \n",
      "_________________________________________________________________\n",
      "Conv3_2 (SeparableConv2D)    (None, 56, 56, 256)       68096     \n",
      "_________________________________________________________________\n",
      "bn2 (BatchNormalization)     (None, 56, 56, 256)       1024      \n",
      "_________________________________________________________________\n",
      "Conv3_3 (SeparableConv2D)    (None, 56, 56, 256)       68096     \n",
      "_________________________________________________________________\n",
      "pool3 (MaxPooling2D)         (None, 28, 28, 256)       0         \n",
      "_________________________________________________________________\n",
      "Conv4_1 (SeparableConv2D)    (None, 28, 28, 512)       133888    \n",
      "_________________________________________________________________\n",
      "bn3 (BatchNormalization)     (None, 28, 28, 512)       2048      \n",
      "_________________________________________________________________\n",
      "Conv4_2 (SeparableConv2D)    (None, 28, 28, 512)       267264    \n",
      "_________________________________________________________________\n",
      "bn4 (BatchNormalization)     (None, 28, 28, 512)       2048      \n",
      "_________________________________________________________________\n",
      "Conv4_3 (SeparableConv2D)    (None, 28, 28, 512)       267264    \n",
      "_________________________________________________________________\n",
      "pool4 (MaxPooling2D)         (None, 14, 14, 512)       0         \n",
      "_________________________________________________________________\n",
      "flatten (Flatten)            (None, 100352)            0         \n",
      "_________________________________________________________________\n",
      "fc1 (Dense)                  (None, 1024)              102761472 \n",
      "_________________________________________________________________\n",
      "dropout1 (Dropout)           (None, 1024)              0         \n",
      "_________________________________________________________________\n",
      "fc2 (Dense)                  (None, 512)               524800    \n",
      "_________________________________________________________________\n",
      "dropout2 (Dropout)           (None, 512)               0         \n",
      "_________________________________________________________________\n",
      "fc3 (Dense)                  (None, 3)                 1539      \n",
      "=================================================================\n",
      "Total params: 104,198,019\n",
      "Trainable params: 104,194,947\n",
      "Non-trainable params: 3,072\n",
      "_________________________________________________________________\n"
     ]
    }
   ],
   "source": [
    "def build_model():\n",
    "    input_img = Input(shape=(224,224,3), name='ImageInput')\n",
    "    x = Conv2D(64, (3,3), activation='relu', padding='same', name='Conv1_1')(input_img)\n",
    "    x = Conv2D(64, (3,3), activation='relu', padding='same', name='Conv1_2')(x)\n",
    "    x = MaxPooling2D((2,2), name='pool1')(x)\n",
    "    \n",
    "    x = SeparableConv2D(128, (3,3), activation='relu', padding='same', name='Conv2_1')(x)\n",
    "    x = SeparableConv2D(128, (3,3), activation='relu', padding='same', name='Conv2_2')(x)\n",
    "    x = MaxPooling2D((2,2), name='pool2')(x)\n",
    "    \n",
    "    x = SeparableConv2D(256, (3,3), activation='relu', padding='same', name='Conv3_1')(x)\n",
    "    x = BatchNormalization(name='bn1')(x)\n",
    "    x = SeparableConv2D(256, (3,3), activation='relu', padding='same', name='Conv3_2')(x)\n",
    "    x = BatchNormalization(name='bn2')(x)\n",
    "    x = SeparableConv2D(256, (3,3), activation='relu', padding='same', name='Conv3_3')(x)\n",
    "    x = MaxPooling2D((2,2), name='pool3')(x)\n",
    "    \n",
    "    x = SeparableConv2D(512, (3,3), activation='relu', padding='same', name='Conv4_1')(x)\n",
    "    x = BatchNormalization(name='bn3')(x)\n",
    "    x = SeparableConv2D(512, (3,3), activation='relu', padding='same', name='Conv4_2')(x)\n",
    "    x = BatchNormalization(name='bn4')(x)\n",
    "    x = SeparableConv2D(512, (3,3), activation='relu', padding='same', name='Conv4_3')(x)\n",
    "    x = MaxPooling2D((2,2), name='pool4')(x)\n",
    "    \n",
    "    x = Flatten(name='flatten')(x)\n",
    "    x = Dense(1024, activation='relu', name='fc1')(x)\n",
    "    x = Dropout(rate = 0.3, name='dropout1')(x)\n",
    "    x = Dense(512, activation='relu', name='fc2')(x)\n",
    "    x = Dropout(rate = 0.5, name='dropout2')(x)\n",
    "    x = Dense(3, activation='softmax', name='fc3')(x)\n",
    "    \n",
    "    model = Model(inputs=input_img, outputs=x)\n",
    "    return model\n",
    "\n",
    "model =  build_model()\n",
    "model.summary()"
   ]
  },
  {
   "cell_type": "code",
   "execution_count": 7,
   "metadata": {},
   "outputs": [
    {
     "name": "stdout",
     "output_type": "stream",
     "text": [
      "Model: \"model\"\n",
      "_________________________________________________________________\n",
      "Layer (type)                 Output Shape              Param #   \n",
      "=================================================================\n",
      "ImageInput (InputLayer)      [(None, 224, 224, 3)]     0         \n",
      "_________________________________________________________________\n",
      "Conv1_1 (Conv2D)             (None, 224, 224, 64)      1792      \n",
      "_________________________________________________________________\n",
      "Conv1_2 (Conv2D)             (None, 224, 224, 64)      36928     \n",
      "_________________________________________________________________\n",
      "pool1 (MaxPooling2D)         (None, 112, 112, 64)      0         \n",
      "_________________________________________________________________\n",
      "Conv2_1 (SeparableConv2D)    (None, 112, 112, 128)     8896      \n",
      "_________________________________________________________________\n",
      "Conv2_2 (SeparableConv2D)    (None, 112, 112, 128)     17664     \n",
      "_________________________________________________________________\n",
      "pool2 (MaxPooling2D)         (None, 56, 56, 128)       0         \n",
      "_________________________________________________________________\n",
      "Conv3_1 (SeparableConv2D)    (None, 56, 56, 256)       34176     \n",
      "_________________________________________________________________\n",
      "bn1 (BatchNormalization)     (None, 56, 56, 256)       1024      \n",
      "_________________________________________________________________\n",
      "Conv3_2 (SeparableConv2D)    (None, 56, 56, 256)       68096     \n",
      "_________________________________________________________________\n",
      "bn2 (BatchNormalization)     (None, 56, 56, 256)       1024      \n",
      "_________________________________________________________________\n",
      "Conv3_3 (SeparableConv2D)    (None, 56, 56, 256)       68096     \n",
      "_________________________________________________________________\n",
      "pool3 (MaxPooling2D)         (None, 28, 28, 256)       0         \n",
      "_________________________________________________________________\n",
      "Conv4_1 (SeparableConv2D)    (None, 28, 28, 512)       133888    \n",
      "_________________________________________________________________\n",
      "bn3 (BatchNormalization)     (None, 28, 28, 512)       2048      \n",
      "_________________________________________________________________\n",
      "Conv4_2 (SeparableConv2D)    (None, 28, 28, 512)       267264    \n",
      "_________________________________________________________________\n",
      "bn4 (BatchNormalization)     (None, 28, 28, 512)       2048      \n",
      "_________________________________________________________________\n",
      "Conv4_3 (SeparableConv2D)    (None, 28, 28, 512)       267264    \n",
      "_________________________________________________________________\n",
      "pool4 (MaxPooling2D)         (None, 14, 14, 512)       0         \n",
      "_________________________________________________________________\n",
      "flatten (Flatten)            (None, 100352)            0         \n",
      "_________________________________________________________________\n",
      "fc1 (Dense)                  (None, 1024)              102761472 \n",
      "_________________________________________________________________\n",
      "dropout1 (Dropout)           (None, 1024)              0         \n",
      "_________________________________________________________________\n",
      "fc2 (Dense)                  (None, 512)               524800    \n",
      "_________________________________________________________________\n",
      "dropout2 (Dropout)           (None, 512)               0         \n",
      "_________________________________________________________________\n",
      "fc3 (Dense)                  (None, 3)                 1539      \n",
      "=================================================================\n",
      "Total params: 104,198,019\n",
      "Trainable params: 104,194,947\n",
      "Non-trainable params: 3,072\n",
      "_________________________________________________________________\n"
     ]
    }
   ],
   "source": [
    "# Open the VGG16 weight file\n",
    "f = h5py.File('D:/Projects/Covid19/VGG16/vgg16_weights_tf_dim_ordering_tf_kernels_notop.h5', 'r')\n",
    "\n",
    "# Select the layers for which you want to set weight.\n",
    "\n",
    "w,b = f['block1_conv1']['block1_conv1_W_1:0'], f['block1_conv1']['block1_conv1_b_1:0']\n",
    "model.layers[1].set_weights = [w,b]\n",
    "\n",
    "w,b = f['block1_conv2']['block1_conv2_W_1:0'], f['block1_conv2']['block1_conv2_b_1:0']\n",
    "model.layers[2].set_weights = [w,b]\n",
    "\n",
    "w,b = f['block2_conv1']['block2_conv1_W_1:0'], f['block2_conv1']['block2_conv1_b_1:0']\n",
    "model.layers[4].set_weights = [w,b]\n",
    "\n",
    "w,b = f['block2_conv2']['block2_conv2_W_1:0'], f['block2_conv2']['block2_conv2_b_1:0']\n",
    "model.layers[5].set_weights = [w,b]\n",
    "\n",
    "f.close()\n",
    "model.summary() "
   ]
  },
  {
   "cell_type": "code",
   "execution_count": 8,
   "metadata": {},
   "outputs": [],
   "source": [
    "# opt = RMSprop(lr=0.0001, decay=1e-6)\n",
    "\n",
    "top_weights_path = os.path.join(os.path.abspath(\"D:/Projects/Covid19/Model/VGG16Depthwise/\"), 'VGG16Depthwise_weights.h5')\n",
    "\n",
    "\n",
    "opt = Adam(lr=0.0001, decay=1e-5)\n",
    "\n",
    "es = EarlyStopping(monitor='val_accuracy', patience=5)\n",
    "chkpt = ModelCheckpoint(filepath=top_weights_path, monitor='val_accuracy',save_best_only=True, save_weights_only=True)\n",
    "\n",
    "model.compile(loss='categorical_crossentropy', metrics=['accuracy'],optimizer=opt)"
   ]
  },
  {
   "cell_type": "code",
   "execution_count": 9,
   "metadata": {},
   "outputs": [
    {
     "name": "stdout",
     "output_type": "stream",
     "text": [
      "Number of training and validation steps: 323 and 80\n"
     ]
    }
   ],
   "source": [
    "nb_epochs = 50\n",
    "\n",
    "# Define the number of training steps\n",
    "nb_train_steps = train_generator.samples//train_generator.batch_size\n",
    "nb_val_steps = validation_generator.samples//validation_generator.batch_size\n",
    "\n",
    "\n",
    "print(\"Number of training and validation steps: {} and {}\".format(nb_train_steps, nb_val_steps))"
   ]
  },
  {
   "cell_type": "code",
   "execution_count": 10,
   "metadata": {
    "collapsed": true
   },
   "outputs": [
    {
     "name": "stdout",
     "output_type": "stream",
     "text": [
      "Epoch 1/50\n",
      "323/323 [==============================] - 97s 299ms/step - loss: 1.0399 - accuracy: 0.4288 - val_loss: 1.1294 - val_accuracy: 0.3531\n",
      "Epoch 2/50\n",
      "323/323 [==============================] - 95s 294ms/step - loss: 0.9627 - accuracy: 0.5193 - val_loss: 1.0284 - val_accuracy: 0.4719\n",
      "Epoch 3/50\n",
      "323/323 [==============================] - 95s 294ms/step - loss: 0.9218 - accuracy: 0.5534 - val_loss: 0.9582 - val_accuracy: 0.5500\n",
      "Epoch 4/50\n",
      "323/323 [==============================] - 94s 293ms/step - loss: 0.8376 - accuracy: 0.6161 - val_loss: 0.8420 - val_accuracy: 0.6469\n",
      "Epoch 5/50\n",
      "323/323 [==============================] - 93s 288ms/step - loss: 0.7455 - accuracy: 0.6827 - val_loss: 0.8328 - val_accuracy: 0.6313\n",
      "Epoch 6/50\n",
      "323/323 [==============================] - 93s 289ms/step - loss: 0.6604 - accuracy: 0.7113 - val_loss: 0.7086 - val_accuracy: 0.6875\n",
      "Epoch 7/50\n",
      "323/323 [==============================] - 93s 288ms/step - loss: 0.6028 - accuracy: 0.7562 - val_loss: 0.7945 - val_accuracy: 0.6219\n",
      "Epoch 8/50\n",
      "323/323 [==============================] - 94s 291ms/step - loss: 0.4943 - accuracy: 0.8088 - val_loss: 0.6049 - val_accuracy: 0.7406\n",
      "Epoch 9/50\n",
      "323/323 [==============================] - 95s 295ms/step - loss: 0.4431 - accuracy: 0.8235 - val_loss: 0.5543 - val_accuracy: 0.7656\n",
      "Epoch 10/50\n",
      "323/323 [==============================] - 94s 290ms/step - loss: 0.3578 - accuracy: 0.8622 - val_loss: 0.6030 - val_accuracy: 0.7625\n",
      "Epoch 11/50\n",
      "323/323 [==============================] - 93s 289ms/step - loss: 0.3300 - accuracy: 0.8676 - val_loss: 0.5451 - val_accuracy: 0.7812\n",
      "Epoch 12/50\n",
      "323/323 [==============================] - 93s 289ms/step - loss: 0.2784 - accuracy: 0.8994 - val_loss: 0.6024 - val_accuracy: 0.7688\n",
      "Epoch 13/50\n",
      "323/323 [==============================] - 94s 291ms/step - loss: 0.2254 - accuracy: 0.9094 - val_loss: 0.5735 - val_accuracy: 0.8094\n",
      "Epoch 14/50\n",
      "323/323 [==============================] - 93s 289ms/step - loss: 0.2165 - accuracy: 0.9102 - val_loss: 0.6780 - val_accuracy: 0.7625\n",
      "Epoch 15/50\n",
      "323/323 [==============================] - 93s 289ms/step - loss: 0.1726 - accuracy: 0.9265 - val_loss: 0.5730 - val_accuracy: 0.8250\n",
      "Epoch 16/50\n",
      "323/323 [==============================] - 93s 288ms/step - loss: 0.1519 - accuracy: 0.9466 - val_loss: 0.7794 - val_accuracy: 0.7969\n",
      "Epoch 17/50\n",
      "323/323 [==============================] - 93s 288ms/step - loss: 0.1221 - accuracy: 0.9567 - val_loss: 0.6692 - val_accuracy: 0.8062\n",
      "Epoch 18/50\n",
      "323/323 [==============================] - 93s 288ms/step - loss: 0.1025 - accuracy: 0.9706 - val_loss: 0.8450 - val_accuracy: 0.7969\n",
      "Epoch 19/50\n",
      "323/323 [==============================] - 93s 288ms/step - loss: 0.1143 - accuracy: 0.9598 - val_loss: 0.5096 - val_accuracy: 0.8469\n",
      "Epoch 20/50\n",
      "323/323 [==============================] - 93s 288ms/step - loss: 0.0779 - accuracy: 0.9752 - val_loss: 0.6769 - val_accuracy: 0.8062\n",
      "Epoch 21/50\n",
      "323/323 [==============================] - 93s 288ms/step - loss: 0.0651 - accuracy: 0.9752 - val_loss: 0.6803 - val_accuracy: 0.8406\n",
      "Epoch 22/50\n",
      "323/323 [==============================] - 93s 288ms/step - loss: 0.0791 - accuracy: 0.9706 - val_loss: 0.7999 - val_accuracy: 0.8094\n",
      "Epoch 23/50\n",
      "323/323 [==============================] - 93s 289ms/step - loss: 0.0537 - accuracy: 0.9799 - val_loss: 0.7706 - val_accuracy: 0.8188\n",
      "Epoch 24/50\n",
      "323/323 [==============================] - 93s 289ms/step - loss: 0.0340 - accuracy: 0.9876 - val_loss: 0.8473 - val_accuracy: 0.8344\n",
      "Epoch 25/50\n",
      "323/323 [==============================] - 93s 289ms/step - loss: 0.0567 - accuracy: 0.9830 - val_loss: 0.7360 - val_accuracy: 0.8344\n",
      "Epoch 26/50\n",
      "323/323 [==============================] - 93s 289ms/step - loss: 0.0420 - accuracy: 0.9892 - val_loss: 0.8303 - val_accuracy: 0.8250\n",
      "Epoch 27/50\n",
      "323/323 [==============================] - 93s 289ms/step - loss: 0.0549 - accuracy: 0.9830 - val_loss: 0.6770 - val_accuracy: 0.8281\n",
      "Epoch 28/50\n",
      "323/323 [==============================] - 93s 288ms/step - loss: 0.0245 - accuracy: 0.9915 - val_loss: 0.9179 - val_accuracy: 0.8281\n",
      "Epoch 29/50\n",
      "323/323 [==============================] - 93s 288ms/step - loss: 0.0695 - accuracy: 0.9737 - val_loss: 0.7509 - val_accuracy: 0.8250\n",
      "Epoch 30/50\n",
      "323/323 [==============================] - 93s 288ms/step - loss: 0.0387 - accuracy: 0.9876 - val_loss: 1.1227 - val_accuracy: 0.7875\n",
      "Epoch 31/50\n",
      "323/323 [==============================] - 93s 288ms/step - loss: 0.0443 - accuracy: 0.9837 - val_loss: 0.9111 - val_accuracy: 0.8250\n",
      "Epoch 32/50\n",
      "323/323 [==============================] - 94s 290ms/step - loss: 0.0311 - accuracy: 0.9915 - val_loss: 0.8079 - val_accuracy: 0.8250\n",
      "Epoch 33/50\n",
      "323/323 [==============================] - 93s 289ms/step - loss: 0.0156 - accuracy: 0.9954 - val_loss: 1.2079 - val_accuracy: 0.7969\n",
      "Epoch 34/50\n",
      "323/323 [==============================] - 93s 289ms/step - loss: 0.0237 - accuracy: 0.9923 - val_loss: 1.4002 - val_accuracy: 0.7156\n",
      "Epoch 35/50\n",
      "323/323 [==============================] - 93s 288ms/step - loss: 0.0375 - accuracy: 0.9861 - val_loss: 0.7808 - val_accuracy: 0.8313\n",
      "Epoch 36/50\n",
      "323/323 [==============================] - 93s 288ms/step - loss: 0.0511 - accuracy: 0.9807 - val_loss: 0.7573 - val_accuracy: 0.8250\n",
      "Epoch 37/50\n",
      "323/323 [==============================] - 93s 288ms/step - loss: 0.0153 - accuracy: 0.9954 - val_loss: 0.8932 - val_accuracy: 0.8188\n",
      "Epoch 38/50\n",
      "323/323 [==============================] - 93s 288ms/step - loss: 0.0172 - accuracy: 0.9954 - val_loss: 0.9963 - val_accuracy: 0.8094\n",
      "Epoch 39/50\n",
      "323/323 [==============================] - 93s 289ms/step - loss: 0.0184 - accuracy: 0.9930 - val_loss: 0.9252 - val_accuracy: 0.8406\n",
      "Epoch 40/50\n",
      "323/323 [==============================] - 93s 288ms/step - loss: 0.0351 - accuracy: 0.9884 - val_loss: 0.9547 - val_accuracy: 0.8188\n",
      "Epoch 41/50\n",
      "323/323 [==============================] - 93s 288ms/step - loss: 0.0268 - accuracy: 0.9907 - val_loss: 0.8002 - val_accuracy: 0.8469\n",
      "Epoch 42/50\n",
      "323/323 [==============================] - 93s 287ms/step - loss: 0.0079 - accuracy: 0.9977 - val_loss: 0.8690 - val_accuracy: 0.8344\n",
      "Epoch 43/50\n",
      "323/323 [==============================] - 93s 288ms/step - loss: 0.0079 - accuracy: 0.9977 - val_loss: 0.8549 - val_accuracy: 0.8438\n",
      "Epoch 44/50\n",
      "323/323 [==============================] - 93s 288ms/step - loss: 0.0033 - accuracy: 0.9985 - val_loss: 1.2512 - val_accuracy: 0.8188\n",
      "Epoch 45/50\n",
      "323/323 [==============================] - 93s 288ms/step - loss: 0.0602 - accuracy: 0.9845 - val_loss: 0.8141 - val_accuracy: 0.8219\n",
      "Epoch 46/50\n",
      "323/323 [==============================] - 93s 288ms/step - loss: 0.0176 - accuracy: 0.9954 - val_loss: 0.9638 - val_accuracy: 0.8219\n",
      "Epoch 47/50\n",
      "323/323 [==============================] - 93s 288ms/step - loss: 0.0050 - accuracy: 0.9992 - val_loss: 0.8892 - val_accuracy: 0.8594\n",
      "Epoch 48/50\n",
      "323/323 [==============================] - 94s 291ms/step - loss: 0.0013 - accuracy: 1.0000 - val_loss: 0.9926 - val_accuracy: 0.8594\n",
      "Epoch 49/50\n",
      "323/323 [==============================] - 93s 289ms/step - loss: 0.0246 - accuracy: 0.9907 - val_loss: 1.1750 - val_accuracy: 0.7812\n",
      "Epoch 50/50\n",
      "323/323 [==============================] - 201s 624ms/step - loss: 0.0391 - accuracy: 0.9876 - val_loss: 0.9035 - val_accuracy: 0.8313\n"
     ]
    }
   ],
   "source": [
    "history = model.fit_generator(\n",
    "    train_generator,\n",
    "    steps_per_epoch = nb_train_steps,\n",
    "    validation_data = validation_generator, \n",
    "    validation_steps = nb_val_steps,\n",
    "    epochs = nb_epochs)"
   ]
  },
  {
   "cell_type": "markdown",
   "metadata": {},
   "source": [
    "# Evaluation\n",
    "\n",
    "## Accuracy Graph"
   ]
  },
  {
   "cell_type": "code",
   "execution_count": 11,
   "metadata": {},
   "outputs": [
    {
     "data": {
      "image/png": "[encoded data removed]",
      "text/plain": [
       "<Figure size 432x288 with 1 Axes>"
      ]
     },
     "metadata": {
      "needs_background": "light"
     },
     "output_type": "display_data"
    }
   ],
   "source": [
    "plt.plot(history.history['accuracy'])\n",
    "plt.plot(history.history['val_accuracy'])\n",
    "plt.title('Training & Validation Accuracy Curve')\n",
    "plt.ylabel('accuracy')\n",
    "plt.xlabel('epoch')\n",
    "plt.legend(['train', 'test'], loc='upper left')\n",
    "plt.show()"
   ]
  },
  {
   "cell_type": "markdown",
   "metadata": {},
   "source": [
    "## Loss Graph"
   ]
  },
  {
   "cell_type": "code",
   "execution_count": 12,
   "metadata": {},
   "outputs": [
    {
     "data": {
      "image/png": "[encoded data removed]",
      "text/plain": [
       "<Figure size 432x288 with 1 Axes>"
      ]
     },
     "metadata": {
      "needs_background": "light"
     },
     "output_type": "display_data"
    }
   ],
   "source": [
    "plt.plot(history.history['loss'])\n",
    "plt.plot(history.history['val_loss'])\n",
    "plt.title(\"Training & Validation Loss Curve\")\n",
    "plt.ylabel(\"loss\")\n",
    "plt.xlabel(\"epoch\")\n",
    "plt.legend(['train', 'test'], loc='upper left')\n",
    "plt.show()"
   ]
  },
  {
   "cell_type": "code",
   "execution_count": 13,
   "metadata": {},
   "outputs": [],
   "source": [
    "# model.save('D:/Projects/Covid19/Model/VGG16Depthwise/VGG16Depthwise_weights.h5')"
   ]
  }
 ],
 "metadata": {
  "kernelspec": {
   "display_name": "Python 3",
   "language": "python",
   "name": "python3"
  },
  "language_info": {
   "codemirror_mode": {
    "name": "ipython",
    "version": 3
   },
   "file_extension": ".py",
   "mimetype": "text/x-python",
   "name": "python",
   "nbconvert_exporter": "python",
   "pygments_lexer": "ipython3",
   "version": "3.7.4"
  }
 },
 "nbformat": 4,
 "nbformat_minor": 4
}
