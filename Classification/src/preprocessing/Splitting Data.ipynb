{
 "cells": [
  {
   "cell_type": "code",
   "execution_count": 2,
   "metadata": {},
   "outputs": [],
   "source": [
    "# Loading packages\n",
    "\n",
    "# Path and file, data handling\n",
    "import os\n",
    "import numpy as np\n",
    "import pandas as pd\n",
    "from pathlib import Path\n",
    "import glob\n",
    "\n",
    "# Image preprocessing\n",
    "from skimage.io import imread\n",
    "import cv2\n",
    "\n",
    "# Visualization\n",
    "import seaborn as sns\n",
    "import matplotlib.pyplot as plt\n",
    "\n",
    "# Splitting dataset\n",
    "from sklearn.model_selection import train_test_split"
   ]
  },
  {
   "cell_type": "code",
   "execution_count": 3,
   "metadata": {},
   "outputs": [
    {
     "data": {
      "text/plain": [
       "WindowsPath('D:/Projects/Covid19/data/Original_cropped')"
      ]
     },
     "execution_count": 3,
     "metadata": {},
     "output_type": "execute_result"
    }
   ],
   "source": [
    "data_dir = Path('D:/Projects/Covid19/data/')\n",
    "\n",
    "train_dir = data_dir / 'Original_cropped'\n",
    "\n",
    "train_dir"
   ]
  },
  {
   "cell_type": "code",
   "execution_count": 4,
   "metadata": {},
   "outputs": [],
   "source": [
    "# Path to the subdirectories\n",
    "\n",
    "covid_dir = train_dir / 'COVID'\n",
    "normal_dir = train_dir / 'NORMAL'\n",
    "other_dir = train_dir / 'OTHERS'\n",
    "\n",
    "covid_cases = covid_dir.glob('*')\n",
    "normal_cases = normal_dir.glob('*')\n",
    "other_cases = other_dir.glob('*')"
   ]
  },
  {
   "cell_type": "code",
   "execution_count": 5,
   "metadata": {},
   "outputs": [
    {
     "data": {
      "text/plain": [
       "1169"
      ]
     },
     "execution_count": 5,
     "metadata": {},
     "output_type": "execute_result"
    }
   ],
   "source": [
    "train_data = []\n",
    "\n",
    "for img in covid_cases:\n",
    "    train_data.append((img, \"COVID\"))\n",
    "    \n",
    "for img in normal_cases:\n",
    "    train_data.append((img, \"NORMAL\"))\n",
    "    \n",
    "for img in other_cases:\n",
    "    train_data.append((img, \"OTHERS\"))\n",
    "    \n",
    "len(train_data)"
   ]
  },
  {
   "cell_type": "code",
   "execution_count": 6,
   "metadata": {},
   "outputs": [
    {
     "data": {
      "text/html": [
       "<div>\n",
       "<style scoped>\n",
       "    .dataframe tbody tr th:only-of-type {\n",
       "        vertical-align: middle;\n",
       "    }\n",
       "\n",
       "    .dataframe tbody tr th {\n",
       "        vertical-align: top;\n",
       "    }\n",
       "\n",
       "    .dataframe thead th {\n",
       "        text-align: right;\n",
       "    }\n",
       "</style>\n",
       "<table border=\"1\" class=\"dataframe\">\n",
       "  <thead>\n",
       "    <tr style=\"text-align: right;\">\n",
       "      <th></th>\n",
       "      <th>image</th>\n",
       "      <th>label</th>\n",
       "    </tr>\n",
       "  </thead>\n",
       "  <tbody>\n",
       "    <tr>\n",
       "      <th>0</th>\n",
       "      <td>D:\\Projects\\Covid19\\data\\Original_cropped\\COVI...</td>\n",
       "      <td>COVID</td>\n",
       "    </tr>\n",
       "    <tr>\n",
       "      <th>1</th>\n",
       "      <td>D:\\Projects\\Covid19\\data\\Original_cropped\\COVI...</td>\n",
       "      <td>COVID</td>\n",
       "    </tr>\n",
       "    <tr>\n",
       "      <th>2</th>\n",
       "      <td>D:\\Projects\\Covid19\\data\\Original_cropped\\COVI...</td>\n",
       "      <td>COVID</td>\n",
       "    </tr>\n",
       "    <tr>\n",
       "      <th>3</th>\n",
       "      <td>D:\\Projects\\Covid19\\data\\Original_cropped\\COVI...</td>\n",
       "      <td>COVID</td>\n",
       "    </tr>\n",
       "    <tr>\n",
       "      <th>4</th>\n",
       "      <td>D:\\Projects\\Covid19\\data\\Original_cropped\\COVI...</td>\n",
       "      <td>COVID</td>\n",
       "    </tr>\n",
       "  </tbody>\n",
       "</table>\n",
       "</div>"
      ],
      "text/plain": [
       "                                               image  label\n",
       "0  D:\\Projects\\Covid19\\data\\Original_cropped\\COVI...  COVID\n",
       "1  D:\\Projects\\Covid19\\data\\Original_cropped\\COVI...  COVID\n",
       "2  D:\\Projects\\Covid19\\data\\Original_cropped\\COVI...  COVID\n",
       "3  D:\\Projects\\Covid19\\data\\Original_cropped\\COVI...  COVID\n",
       "4  D:\\Projects\\Covid19\\data\\Original_cropped\\COVI...  COVID"
      ]
     },
     "execution_count": 6,
     "metadata": {},
     "output_type": "execute_result"
    }
   ],
   "source": [
    "train_data = pd.DataFrame(train_data, columns=['image', 'label'])\n",
    "\n",
    "train_data.head()"
   ]
  },
  {
   "cell_type": "code",
   "execution_count": 6,
   "metadata": {},
   "outputs": [],
   "source": [
    "# saving new data\n",
    "\n",
    "train_data.to_csv('categorical.csv')"
   ]
  },
  {
   "cell_type": "markdown",
   "metadata": {},
   "source": [
    "#########################################################################################################3"
   ]
  },
  {
   "cell_type": "code",
   "execution_count": 3,
   "metadata": {},
   "outputs": [],
   "source": [
    "path = {os.path.basename(x): x for x in glob.glob(os.path.join(\"D:\\Projects\\Covid19\\data\\Original_cropped\\COVID\", '*.png'))}"
   ]
  },
  {
   "cell_type": "code",
   "execution_count": 11,
   "metadata": {},
   "outputs": [
    {
     "data": {
      "text/html": [
       "<div>\n",
       "<style scoped>\n",
       "    .dataframe tbody tr th:only-of-type {\n",
       "        vertical-align: middle;\n",
       "    }\n",
       "\n",
       "    .dataframe tbody tr th {\n",
       "        vertical-align: top;\n",
       "    }\n",
       "\n",
       "    .dataframe thead th {\n",
       "        text-align: right;\n",
       "    }\n",
       "</style>\n",
       "<table border=\"1\" class=\"dataframe\">\n",
       "  <thead>\n",
       "    <tr style=\"text-align: right;\">\n",
       "      <th></th>\n",
       "      <th>Image Index</th>\n",
       "      <th>Finding Labels</th>\n",
       "      <th>Patient ID</th>\n",
       "      <th>Paths</th>\n",
       "    </tr>\n",
       "  </thead>\n",
       "  <tbody>\n",
       "    <tr>\n",
       "      <th>0</th>\n",
       "      <td>00030806_000.png</td>\n",
       "      <td>Covid</td>\n",
       "      <td>30806</td>\n",
       "      <td>D:\\Projects\\Covid19\\data\\Original_cropped\\COVI...</td>\n",
       "    </tr>\n",
       "    <tr>\n",
       "      <th>1</th>\n",
       "      <td>00030807_000.png</td>\n",
       "      <td>Covid</td>\n",
       "      <td>30807</td>\n",
       "      <td>D:\\Projects\\Covid19\\data\\Original_cropped\\COVI...</td>\n",
       "    </tr>\n",
       "    <tr>\n",
       "      <th>2</th>\n",
       "      <td>00030808_000.png</td>\n",
       "      <td>Covid</td>\n",
       "      <td>30808</td>\n",
       "      <td>D:\\Projects\\Covid19\\data\\Original_cropped\\COVI...</td>\n",
       "    </tr>\n",
       "    <tr>\n",
       "      <th>3</th>\n",
       "      <td>00030809_000.png</td>\n",
       "      <td>Covid</td>\n",
       "      <td>30809</td>\n",
       "      <td>D:\\Projects\\Covid19\\data\\Original_cropped\\COVI...</td>\n",
       "    </tr>\n",
       "    <tr>\n",
       "      <th>4</th>\n",
       "      <td>00030810_000.png</td>\n",
       "      <td>Covid</td>\n",
       "      <td>30810</td>\n",
       "      <td>D:\\Projects\\Covid19\\data\\Original_cropped\\COVI...</td>\n",
       "    </tr>\n",
       "  </tbody>\n",
       "</table>\n",
       "</div>"
      ],
      "text/plain": [
       "        Image Index Finding Labels  Patient ID  \\\n",
       "0  00030806_000.png          Covid       30806   \n",
       "1  00030807_000.png          Covid       30807   \n",
       "2  00030808_000.png          Covid       30808   \n",
       "3  00030809_000.png          Covid       30809   \n",
       "4  00030810_000.png          Covid       30810   \n",
       "\n",
       "                                               Paths  \n",
       "0  D:\\Projects\\Covid19\\data\\Original_cropped\\COVI...  \n",
       "1  D:\\Projects\\Covid19\\data\\Original_cropped\\COVI...  \n",
       "2  D:\\Projects\\Covid19\\data\\Original_cropped\\COVI...  \n",
       "3  D:\\Projects\\Covid19\\data\\Original_cropped\\COVI...  \n",
       "4  D:\\Projects\\Covid19\\data\\Original_cropped\\COVI...  "
      ]
     },
     "execution_count": 11,
     "metadata": {},
     "output_type": "execute_result"
    }
   ],
   "source": [
    "covid_data = []\n",
    "count = int(\"30806\")\n",
    "for img in path:\n",
    "    covid_data.append((img, \"Covid\", count))\n",
    "    count += 1\n",
    "\n",
    "covid_data = pd.DataFrame(covid_data, columns=['Image Index', 'Finding Labels', 'Patient ID'])\n",
    "\n",
    "covid_data['Paths'] = covid_data['Image Index'].map(path.get)\n",
    "covid_data.head()"
   ]
  },
  {
   "cell_type": "code",
   "execution_count": 12,
   "metadata": {},
   "outputs": [],
   "source": [
    "covid_data.to_csv('covid.csv')"
   ]
  },
  {
   "cell_type": "code",
   "execution_count": null,
   "metadata": {},
   "outputs": [],
   "source": []
  }
 ],
 "metadata": {
  "kernelspec": {
   "display_name": "Python 3",
   "language": "python",
   "name": "python3"
  },
  "language_info": {
   "codemirror_mode": {
    "name": "ipython",
    "version": 3
   },
   "file_extension": ".py",
   "mimetype": "text/x-python",
   "name": "python",
   "nbconvert_exporter": "python",
   "pygments_lexer": "ipython3",
   "version": "3.7.4"
  }
 },
 "nbformat": 4,
 "nbformat_minor": 4
}
